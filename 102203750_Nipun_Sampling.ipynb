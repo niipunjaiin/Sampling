{
 "cells": [
  {
   "cell_type": "code",
   "execution_count": 1,
   "id": "c7bed4ae-3385-4d4b-bf37-9f3334d01939",
   "metadata": {},
   "outputs": [],
   "source": [
    "import pandas as pd\n",
    "import numpy as np\n",
    "from sklearn.model_selection import train_test_split\n",
    "from sklearn.ensemble import RandomForestClassifier\n",
    "from sklearn.linear_model import LogisticRegression\n",
    "from sklearn.tree import DecisionTreeClassifier\n",
    "from sklearn.svm import SVC\n",
    "from sklearn.neighbors import KNeighborsClassifier\n",
    "from sklearn.metrics import accuracy_score\n",
    "from imblearn.over_sampling import SMOTE\n",
    "from imblearn.under_sampling import RandomUnderSampler\n",
    "from imblearn.combine import SMOTEENN"
   ]
  },
  {
   "cell_type": "code",
   "execution_count": 2,
   "id": "da6d7e55-d8e5-4cdd-8e3e-4290d63c56c0",
   "metadata": {},
   "outputs": [],
   "source": [
    "data_url = \"Creditcard_data.csv\"\n",
    "dataset = pd.read_csv(data_url)"
   ]
  },
  {
   "cell_type": "code",
   "execution_count": 3,
   "id": "ad501757-f7c2-4e05-a0b3-5e42949d0682",
   "metadata": {},
   "outputs": [],
   "source": [
    "X = dataset.drop(\"Class\", axis=1)\n",
    "y = dataset[\"Class\"]\n",
    "smote = SMOTE(random_state=42)\n",
    "X_balanced, y_balanced = smote.fit_resample(X, y)"
   ]
  },
  {
   "cell_type": "code",
   "execution_count": 4,
   "id": "6e3ae02c-1078-485a-b234-34f4d171decb",
   "metadata": {},
   "outputs": [],
   "source": [
    "def create_samples(X, y, sample_size):\n",
    "    samples = []\n",
    "    for _ in range(5):\n",
    "        X_sample, _, y_sample, _ = train_test_split(X, y, train_size=sample_size, random_state=np.random.randint(100))\n",
    "        samples.append((X_sample, y_sample))\n",
    "    return samples\n",
    "sample_size = 0.2 \n",
    "samples = create_samples(X_balanced, y_balanced, sample_size)"
   ]
  },
  {
   "cell_type": "code",
   "execution_count": 5,
   "id": "5bd7c9b3-912b-40a2-b6f6-1a603ba674ec",
   "metadata": {},
   "outputs": [],
   "source": [
    "sampling_techniques = {\n",
    "    \"Sampling1\": lambda X, y: (X, y),\n",
    "    \"Sampling2\": RandomUnderSampler(random_state=42).fit_resample,\n",
    "    \"Sampling3\": SMOTE(random_state=42).fit_resample,\n",
    "    \"Sampling4\": SMOTEENN(random_state=42).fit_resample,\n",
    "    \"Sampling5\": lambda X, y: (X.sample(frac=0.8, random_state=42), y.sample(frac=0.8, random_state=42)),\n",
    "}"
   ]
  },
  {
   "cell_type": "code",
   "execution_count": 6,
   "id": "10259885-dded-4728-af36-ecced675f37d",
   "metadata": {},
   "outputs": [],
   "source": [
    "models = {\n",
    "    \"M1\": RandomForestClassifier(random_state=42),\n",
    "    \"M2\": LogisticRegression(max_iter=1000, random_state=42),\n",
    "    \"M3\": DecisionTreeClassifier(random_state=42),\n",
    "    \"M4\": SVC(random_state=42),\n",
    "    \"M5\": KNeighborsClassifier(),\n",
    "}"
   ]
  },
  {
   "cell_type": "code",
   "execution_count": 7,
   "id": "aa00ffce-986b-4e07-a987-4db754777dc7",
   "metadata": {},
   "outputs": [],
   "source": [
    "results = pd.DataFrame(index=models.keys(), columns=sampling_techniques.keys())\n",
    "for sample_idx, (X_sample, y_sample) in enumerate(samples):\n",
    "    for sampling_name, sampling_function in sampling_techniques.items():\n",
    "        X_resampled, y_resampled = sampling_function(X_sample, y_sample)\n",
    "        for model_name, model in models.items():\n",
    "            X_train, X_test, y_train, y_test = train_test_split(\n",
    "                X_resampled, y_resampled, test_size=0.3, random_state=42\n",
    "            )\n",
    "            model.fit(X_train, y_train)\n",
    "            y_pred = model.predict(X_test)\n",
    "            accuracy = accuracy_score(y_test, y_pred)\n",
    "            if pd.isna(results.loc[model_name, sampling_name]):\n",
    "                results.loc[model_name, sampling_name] = 0\n",
    "            results.loc[model_name, sampling_name] += accuracy / len(samples)"
   ]
  },
  {
   "cell_type": "code",
   "execution_count": 9,
   "id": "c7609c4a-81e8-49f2-bf00-9305b729b6ae",
   "metadata": {},
   "outputs": [
    {
     "name": "stdout",
     "output_type": "stream",
     "text": [
      "Best Sampling Technique and Accuracy for Each Model:\n",
      "M1: Sampling1 with accuracy 0.99\n",
      "M2: Sampling4 with accuracy 0.94\n",
      "M3: Sampling3 with accuracy 0.95\n",
      "M4: Sampling4 with accuracy 0.78\n",
      "M5: Sampling4 with accuracy 0.93\n"
     ]
    }
   ],
   "source": [
    "best_sampling = results.idxmax(axis=1)\n",
    "best_sampling_with_accuracy = {model: (technique, results.loc[model, technique]) for model, technique in best_sampling.items()}\n",
    "print(\"Best Sampling Technique and Accuracy for Each Model:\")\n",
    "for model, (technique, accuracy) in best_sampling_with_accuracy.items():\n",
    "    print(f\"{model}: {technique} with accuracy {accuracy:.2f}\")"
   ]
  },
  {
   "cell_type": "code",
   "execution_count": 10,
   "id": "00a22253-562a-4344-ac97-aa035c0b7e2e",
   "metadata": {},
   "outputs": [],
   "source": [
    "results.to_csv(\"samplingmodelaccuracyresults.csv\")"
   ]
  },
  {
   "cell_type": "code",
   "execution_count": null,
   "id": "9c345833-6e06-41cd-9ac6-e916721dcad1",
   "metadata": {},
   "outputs": [],
   "source": []
  }
 ],
 "metadata": {
  "kernelspec": {
   "display_name": "Python 3 (ipykernel)",
   "language": "python",
   "name": "python3"
  },
  "language_info": {
   "codemirror_mode": {
    "name": "ipython",
    "version": 3
   },
   "file_extension": ".py",
   "mimetype": "text/x-python",
   "name": "python",
   "nbconvert_exporter": "python",
   "pygments_lexer": "ipython3",
   "version": "3.11.7"
  }
 },
 "nbformat": 4,
 "nbformat_minor": 5
}
